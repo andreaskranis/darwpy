{
 "cells": [
  {
   "cell_type": "markdown",
   "id": "specific-daniel",
   "metadata": {},
   "source": [
    "## Summary\n",
    "\n",
    "A quick demonstration of how the optimisation using the Genetic Algorithm (GA) as implemented in *darwpy* works. \n",
    "\n",
    "Steps:\n",
    "\n",
    "1. Use get_problems() to load all the optimisation problems as in darwpy.problems\n",
    "2. Use **GA** to get the solution\n",
    "3. Visualise the best solution in 2D and 3D*\n",
    "\n",
    "*Note that all the optimsiation functions have two parameters, hence it is possible to visualise in 3D\n",
    "\n",
    "In the last part of the notebook, it is shown how the same problems can be solved with yabox "
   ]
  },
  {
   "cell_type": "code",
   "execution_count": 23,
   "id": "forward-notification",
   "metadata": {},
   "outputs": [],
   "source": [
    "import darwpy as dp"
   ]
  },
  {
   "cell_type": "code",
   "execution_count": 21,
   "id": "posted-benjamin",
   "metadata": {},
   "outputs": [],
   "source": [
    "## optional (requires jupyter lab version 3 and ipyml installed) to enable interactive features of matplotlib\n",
    "## see https://github.com/matplotlib/ipympl#installation for details on installation\n",
    "## \n",
    "%matplotlib widget"
   ]
  },
  {
   "cell_type": "code",
   "execution_count": 70,
   "id": "adaptive-accounting",
   "metadata": {},
   "outputs": [
    {
     "name": "stderr",
     "output_type": "stream",
     "text": [
      "  2%|▏         | 38/2000 [00:00<00:09, 197.57it/s]"
     ]
    },
    {
     "name": "stdout",
     "output_type": "stream",
     "text": [
      "Best initial fitness: 20.0\n",
      "pop@0 [gen,fitness]: ['0->[0.0, 4.10541748029737]', '1->[0.0, 4.197407323985651]', '5->[0.0, 11.758336734270951]', '10->[0.0, 17.686895868682925]', '20->[0.0, 20.0]']\n"
     ]
    },
    {
     "name": "stderr",
     "output_type": "stream",
     "text": [
      " 27%|██▋       | 547/2000 [00:02<00:05, 248.34it/s]"
     ]
    },
    {
     "name": "stdout",
     "output_type": "stream",
     "text": [
      "pop@500 [gen,fitness]: ['0->[422.0, 1.133058736539354e-05]', '1->[423.0, 1.133058736539354e-05]', '5->[423.0, 1.133058736539354e-05]', '10->[500.0, 1.133058736539354e-05]', '20->[500.0, 1.133058736539354e-05]']\n"
     ]
    },
    {
     "name": "stderr",
     "output_type": "stream",
     "text": [
      " 52%|█████▏    | 1045/2000 [00:04<00:03, 253.75it/s]"
     ]
    },
    {
     "name": "stdout",
     "output_type": "stream",
     "text": [
      "pop@1000 [gen,fitness]: ['0->[422.0, 1.133058736539354e-05]', '1->[423.0, 1.133058736539354e-05]', '5->[423.0, 1.133058736539354e-05]', '10->[1000.0, 1.133058736539354e-05]', '20->[1000.0, 1.133058736539354e-05]']\n"
     ]
    },
    {
     "name": "stderr",
     "output_type": "stream",
     "text": [
      " 77%|███████▋  | 1544/2000 [00:06<00:01, 255.27it/s]"
     ]
    },
    {
     "name": "stdout",
     "output_type": "stream",
     "text": [
      "pop@1500 [gen,fitness]: ['0->[422.0, 1.133058736539354e-05]', '1->[423.0, 1.133058736539354e-05]', '5->[423.0, 1.133058736539354e-05]', '10->[1500.0, 1.133058736539354e-05]', '20->[1500.0, 1.133058736539354e-05]']\n"
     ]
    },
    {
     "name": "stderr",
     "output_type": "stream",
     "text": [
      "100%|██████████| 2000/2000 [00:08<00:00, 246.41it/s]"
     ]
    },
    {
     "name": "stdout",
     "output_type": "stream",
     "text": [
      "\n",
      "\n",
      "Best fitness 1.5871319293861365e-08\n",
      "best sol: [ 7.70074056e-05 -9.97054601e-05] obtained in generation 1662.0\n",
      "The slope from 1000 to end was -1.5167826051999867e-08\n",
      "[ 7.70074056e-05 -9.97054601e-05  1.66200000e+03  1.58713193e-08]\n"
     ]
    },
    {
     "name": "stderr",
     "output_type": "stream",
     "text": [
      "\n"
     ]
    }
   ],
   "source": [
    "import numpy as np\n",
    "\n",
    "def get_domain(bounds=[-5.12,5.12],dimensions=2):    \n",
    "    out = {}\n",
    "    for i in range(dimensions):\n",
    "        m1,m2 = bounds\n",
    "        out[i] = {'min':m1,'max':m2,'init':np.random.randint(m1,m2),'min0':m1,'max0':m2}\n",
    "    return out\n",
    "\n",
    "\n",
    "domain = get_domain()\n",
    "\n",
    "def cost_func(sol):\n",
    "    return sum(s**2 for s in sol)\n",
    "    \n",
    "pop1,fitness1,slope1 = dp.GA(domain,cost_func,N=60,generations=2000)\n"
   ]
  },
  {
   "cell_type": "code",
   "execution_count": 76,
   "id": "alternative-income",
   "metadata": {},
   "outputs": [
    {
     "name": "stdout",
     "output_type": "stream",
     "text": [
      "[1.66200000e+03 1.58713193e-08]\n"
     ]
    }
   ],
   "source": [
    "print(pop1[0,len(domain):])"
   ]
  },
  {
   "cell_type": "code",
   "execution_count": null,
   "id": "historic-sacrifice",
   "metadata": {},
   "outputs": [],
   "source": []
  },
  {
   "cell_type": "code",
   "execution_count": 32,
   "id": "periodic-symphony",
   "metadata": {},
   "outputs": [
    {
     "name": "stdout",
     "output_type": "stream",
     "text": [
      "The available functions to try GA are: \n",
      "- Ackley\n",
      "- BaseProblem\n",
      "- CrossInTray\n",
      "- DixonPrice\n",
      "- Easom\n",
      "- EggHolder\n",
      "- Griewank\n",
      "- HolderTable\n",
      "- Levy\n",
      "- Michalewicz\n",
      "- Rastrigin\n",
      "- Rosenbrock\n",
      "- Schwefel\n",
      "- StyblinskiTang\n"
     ]
    }
   ],
   "source": [
    "## Load the availabe problems\n",
    "obj_funcs = dp.get_problems()\n",
    "\n",
    "print(\"The available functions to try GA are: \\n- {}\".format('\\n- '.join(obj_funcs.keys())))"
   ]
  },
  {
   "cell_type": "code",
   "execution_count": 17,
   "id": "psychological-scottish",
   "metadata": {},
   "outputs": [],
   "source": [
    "## Select one problem\n",
    "bfunc = obj_funcs['EggHolder']()"
   ]
  },
  {
   "cell_type": "code",
   "execution_count": 33,
   "id": "european-elimination",
   "metadata": {},
   "outputs": [
    {
     "name": "stderr",
     "output_type": "stream",
     "text": [
      "  1%|          | 14/2000 [00:00<00:14, 137.64it/s]"
     ]
    },
    {
     "name": "stdout",
     "output_type": "stream",
     "text": [
      "Best initial fitness: 232.55284528681176\n",
      "pop@0 [gen,fitness]: ['0->[0.0, -446.53361655833464]', '1->[0.0, -428.03462953759254]', '5->[0.0, -113.00262389831505]', '10->[0.0, 31.519462479944636]', '20->[0.0, 232.55284528681176]']\n"
     ]
    },
    {
     "name": "stderr",
     "output_type": "stream",
     "text": [
      " 27%|██▋       | 540/2000 [00:02<00:07, 200.01it/s]"
     ]
    },
    {
     "name": "stdout",
     "output_type": "stream",
     "text": [
      "pop@500 [gen,fitness]: ['0->[336.0, -934.2396434127779]', '1->[337.0, -934.2396434127779]', '5->[337.0, -934.2396434127779]', '10->[500.0, -934.2396434127779]', '20->[500.0, -934.2396434127779]']\n"
     ]
    },
    {
     "name": "stderr",
     "output_type": "stream",
     "text": [
      " 52%|█████▏    | 1039/2000 [00:05<00:04, 213.31it/s]"
     ]
    },
    {
     "name": "stdout",
     "output_type": "stream",
     "text": [
      "pop@1000 [gen,fitness]: ['0->[984.0, -955.6293709207914]', '1->[985.0, -955.6293709207914]', '5->[985.0, -955.6293709207914]', '10->[1000.0, -955.6293709207914]', '20->[1000.0, -955.6293709207914]']\n"
     ]
    },
    {
     "name": "stderr",
     "output_type": "stream",
     "text": [
      " 77%|███████▋  | 1535/2000 [00:07<00:02, 218.38it/s]"
     ]
    },
    {
     "name": "stdout",
     "output_type": "stream",
     "text": [
      "pop@1500 [gen,fitness]: ['0->[1113.0, -959.3238659137021]', '1->[1114.0, -959.3238659137021]', '5->[1114.0, -959.3238659137021]', '10->[1500.0, -959.3238659137021]', '20->[1500.0, -959.3238659137021]']\n"
     ]
    },
    {
     "name": "stderr",
     "output_type": "stream",
     "text": [
      "100%|██████████| 2000/2000 [00:10<00:00, 199.02it/s]\n",
      "  1%|          | 19/2000 [00:00<00:10, 184.16it/s]"
     ]
    },
    {
     "name": "stdout",
     "output_type": "stream",
     "text": [
      "\n",
      "\n",
      "Best fitness -959.3238659137021\n",
      "best sol: [511.9077379  404.09741637] obtained in generation 1113.0\n",
      "The slope from 1000 to end was -0.0016433003036653558\n",
      "** Initial pop was provided by user\n",
      "Best initial fitness: -959.3238659137021\n",
      "pop@0 [gen,fitness]: ['0->[0.0, -959.3238659137021]', '1->[0.0, -959.3238659137021]', '5->[0.0, -959.3238659137021]', '10->[0.0, -959.3238659137021]', '20->[0.0, -959.3238659137021]']\n"
     ]
    },
    {
     "name": "stderr",
     "output_type": "stream",
     "text": [
      " 27%|██▋       | 542/2000 [00:02<00:06, 213.99it/s]"
     ]
    },
    {
     "name": "stdout",
     "output_type": "stream",
     "text": [
      "pop@500 [gen,fitness]: ['0->[0.0, -959.3238659137021]', '1->[0.0, -959.3238659137021]', '5->[0.0, -959.3238659137021]', '10->[500.0, -959.3238659137021]', '20->[500.0, -959.3238659137021]']\n"
     ]
    },
    {
     "name": "stderr",
     "output_type": "stream",
     "text": [
      " 52%|█████▏    | 1031/2000 [00:04<00:04, 212.24it/s]"
     ]
    },
    {
     "name": "stdout",
     "output_type": "stream",
     "text": [
      "pop@1000 [gen,fitness]: ['0->[780.0, -959.5058586516491]', '1->[781.0, -959.5058586516491]', '5->[781.0, -959.5058586516491]', '10->[1000.0, -959.5058586516491]', '20->[1000.0, -959.5058586516491]']\n"
     ]
    },
    {
     "name": "stderr",
     "output_type": "stream",
     "text": [
      " 77%|███████▋  | 1532/2000 [00:07<00:02, 215.01it/s]"
     ]
    },
    {
     "name": "stdout",
     "output_type": "stream",
     "text": [
      "pop@1500 [gen,fitness]: ['0->[780.0, -959.5058586516491]', '1->[781.0, -959.5058586516491]', '5->[781.0, -959.5058586516491]', '10->[1500.0, -959.5058586516491]', '20->[1500.0, -959.5058586516491]']\n"
     ]
    },
    {
     "name": "stderr",
     "output_type": "stream",
     "text": [
      "100%|██████████| 2000/2000 [00:09<00:00, 211.00it/s]"
     ]
    },
    {
     "name": "stdout",
     "output_type": "stream",
     "text": [
      "\n",
      "\n",
      "Best fitness -959.5164979600016\n",
      "best sol: [511.96373105 404.1673975 ] obtained in generation 1604.0\n",
      "The slope from 1000 to end was -1.5629343659767075e-05\n"
     ]
    },
    {
     "name": "stderr",
     "output_type": "stream",
     "text": [
      "\n"
     ]
    }
   ],
   "source": [
    "## Run GA\n",
    "pop,fitness,slope = dp.GA(bfunc.domain,bfunc.evaluate,N=60,generations=2000)"
   ]
  },
  {
   "cell_type": "code",
   "execution_count": 34,
   "id": "excited-submission",
   "metadata": {},
   "outputs": [
    {
     "data": {
      "application/vnd.jupyter.widget-view+json": {
       "model_id": "c04e9a2ea1564369b92f96c74c346d3b",
       "version_major": 2,
       "version_minor": 0
      },
      "text/plain": [
       "Canvas(toolbar=Toolbar(toolitems=[('Home', 'Reset original view', 'home', 'home'), ('Back', 'Back to previous …"
      ]
     },
     "metadata": {},
     "output_type": "display_data"
    },
    {
     "data": {
      "text/plain": [
       "(<Figure size 1200x800 with 1 Axes>, <AxesSubplot:>)"
      ]
     },
     "execution_count": 34,
     "metadata": {},
     "output_type": "execute_result"
    }
   ],
   "source": [
    "## Visualise best solution in 2D\n",
    "bfunc.plot2d(sol=pop[0])"
   ]
  },
  {
   "cell_type": "code",
   "execution_count": 35,
   "id": "quick-invitation",
   "metadata": {},
   "outputs": [
    {
     "data": {
      "application/vnd.jupyter.widget-view+json": {
       "model_id": "8abde97aecb143c88a4e6acda585a2e8",
       "version_major": 2,
       "version_minor": 0
      },
      "text/plain": [
       "Canvas(toolbar=Toolbar(toolitems=[('Home', 'Reset original view', 'home', 'home'), ('Back', 'Back to previous …"
      ]
     },
     "metadata": {},
     "output_type": "display_data"
    },
    {
     "data": {
      "text/plain": [
       "<mpl_toolkits.mplot3d.axes3d.Axes3D at 0x123697190>"
      ]
     },
     "execution_count": 35,
     "metadata": {},
     "output_type": "execute_result"
    }
   ],
   "source": [
    "## Visualise best solution in 2D\n",
    "bfunc.plot3d(sol=pop[0])"
   ]
  },
  {
   "cell_type": "code",
   "execution_count": 73,
   "id": "friendly-bolivia",
   "metadata": {},
   "outputs": [
    {
     "name": "stdout",
     "output_type": "stream",
     "text": [
      "[ 511.96373105  404.1673975  1604.         -959.51649796]\n"
     ]
    }
   ],
   "source": []
  },
  {
   "cell_type": "markdown",
   "id": "turned-proposal",
   "metadata": {},
   "source": [
    "## Try the same optimisation using yabox \n",
    "\n",
    "[ensure it is installed first]"
   ]
  },
  {
   "cell_type": "code",
   "execution_count": 39,
   "id": "extra-professional",
   "metadata": {},
   "outputs": [],
   "source": [
    "import yabox"
   ]
  },
  {
   "cell_type": "code",
   "execution_count": 56,
   "id": "settled-explorer",
   "metadata": {},
   "outputs": [],
   "source": [
    "class Problem(object):\n",
    "    \"\"\"Prepare a yabox compatible object \"\"\"\n",
    "\n",
    "    def __init__(self, fitness_func, dim=None, bounds=None, default_bounds=(-1, 1), name=None):\n",
    "        if bounds is None:\n",
    "            bounds = [default_bounds]\n",
    "            if dim is not None:\n",
    "                bounds = [default_bounds] * dim\n",
    "        self.dimensions = len(bounds)\n",
    "        self.bounds = bounds\n",
    "        self.name = name or self.__class__.__name__\n",
    "        self.fitness_func = fitness_func\n",
    "\n",
    "    def evaluate(self,sol):\n",
    "        return self.fitness_func(sol)\n",
    "\n",
    "    def __call__(self, *args, **kwargs):\n",
    "        return self.evaluate(*args, **kwargs)\n",
    "\n",
    "    def __repr__(self):\n",
    "        return '{} {}D'.format(self.name, self.dimensions)"
   ]
  },
  {
   "cell_type": "code",
   "execution_count": 60,
   "id": "fourth-baking",
   "metadata": {},
   "outputs": [
    {
     "name": "stderr",
     "output_type": "stream",
     "text": [
      "Optimizing (DE): 50000it [00:06, 7754.38it/s]                         "
     ]
    },
    {
     "name": "stdout",
     "output_type": "stream",
     "text": [
      "(array([[0., 0.],\n",
      "       [0., 0.]]), 4.440892098500626e-16)\n"
     ]
    },
    {
     "name": "stderr",
     "output_type": "stream",
     "text": [
      "\n"
     ]
    }
   ],
   "source": [
    "bfunc2 = obj_funcs['Ackley']()\n",
    "\n",
    "pr = Problem(bfunc2.evaluate, dim=bfunc2.dimensions, bounds=bfunc2.bounds)\n",
    "de = yabox.DE(pr, pr.bounds, maxiters=5000)\n",
    "sol2 = de.solve(show_progress=True)\n",
    "print(sol2)"
   ]
  },
  {
   "cell_type": "code",
   "execution_count": 62,
   "id": "federal-marine",
   "metadata": {},
   "outputs": [
    {
     "data": {
      "application/vnd.jupyter.widget-view+json": {
       "model_id": "d2f1b3c0406b4594a80a8ba8b4b6c2ff",
       "version_major": 2,
       "version_minor": 0
      },
      "text/plain": [
       "Canvas(toolbar=Toolbar(toolitems=[('Home', 'Reset original view', 'home', 'home'), ('Back', 'Back to previous …"
      ]
     },
     "metadata": {},
     "output_type": "display_data"
    },
    {
     "data": {
      "text/plain": [
       "<mpl_toolkits.mplot3d.axes3d.Axes3D at 0x12bc01c10>"
      ]
     },
     "execution_count": 62,
     "metadata": {},
     "output_type": "execute_result"
    }
   ],
   "source": [
    "bfunc2.plot3d(sol=sol2[0][0])"
   ]
  },
  {
   "cell_type": "code",
   "execution_count": null,
   "id": "fluid-bachelor",
   "metadata": {},
   "outputs": [],
   "source": []
  }
 ],
 "metadata": {
  "kernelspec": {
   "display_name": "Python 3",
   "language": "python",
   "name": "python3"
  },
  "language_info": {
   "codemirror_mode": {
    "name": "ipython",
    "version": 3
   },
   "file_extension": ".py",
   "mimetype": "text/x-python",
   "name": "python",
   "nbconvert_exporter": "python",
   "pygments_lexer": "ipython3",
   "version": "3.7.5"
  }
 },
 "nbformat": 4,
 "nbformat_minor": 5
}
