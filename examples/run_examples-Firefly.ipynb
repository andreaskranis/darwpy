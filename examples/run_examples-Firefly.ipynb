{
 "cells": [
  {
   "cell_type": "markdown",
   "id": "novel-fleet",
   "metadata": {},
   "source": [
    "## Summary\n",
    "\n",
    "[**NOTE**] The Firefly implementation is still in development. It works well for simpler optimisation problems (e.g. for Auckey), but not as well for more complicated ones (e.g. EggHolder)"
   ]
  },
  {
   "cell_type": "code",
   "execution_count": 1,
   "id": "specified-valuable",
   "metadata": {},
   "outputs": [],
   "source": [
    "import darwpy as dp"
   ]
  },
  {
   "cell_type": "code",
   "execution_count": 2,
   "id": "muslim-passenger",
   "metadata": {},
   "outputs": [],
   "source": [
    "## optional\n",
    "%matplotlib widget"
   ]
  },
  {
   "cell_type": "code",
   "execution_count": 5,
   "id": "infrared-vancouver",
   "metadata": {},
   "outputs": [
    {
     "name": "stdout",
     "output_type": "stream",
     "text": [
      "The available functions to try the Firefly algorithm are: \n",
      "- Ackley\n",
      "- BaseProblem\n",
      "- CrossInTray\n",
      "- DixonPrice\n",
      "- Easom\n",
      "- EggHolder\n",
      "- Griewank\n",
      "- HolderTable\n",
      "- Levy\n",
      "- Michalewicz\n",
      "- Rastrigin\n",
      "- Rosenbrock\n",
      "- Schwefel\n",
      "- StyblinskiTang\n"
     ]
    }
   ],
   "source": [
    "obj_funcs = dp.get_problems()\n",
    "\n",
    "print(\"The available functions to try the Firefly algorithm are: \\n- {}\".format('\\n- '.join(obj_funcs.keys())))"
   ]
  },
  {
   "cell_type": "code",
   "execution_count": 6,
   "id": "biblical-hepatitis",
   "metadata": {},
   "outputs": [],
   "source": [
    "bfunc = obj_funcs['Ackley']()"
   ]
  },
  {
   "cell_type": "code",
   "execution_count": 7,
   "id": "responsible-flight",
   "metadata": {},
   "outputs": [],
   "source": [
    "optParams=(10000, 5)\n",
    "pop = dp.FireflyPop(bfunc.domain,bfunc.evaluate)"
   ]
  },
  {
   "cell_type": "code",
   "execution_count": 8,
   "id": "typical-order",
   "metadata": {},
   "outputs": [
    {
     "name": "stdout",
     "output_type": "stream",
     "text": [
      "firefly initial id:0\n",
      "Current position  :[-1.88363357  3.99068713]\n",
      "Best position     :[0.01286618 0.01232441]\n",
      "Current intensity :0.09422363412947227\n",
      "Best intensity    :0.9444406718421854\n",
      "Absorption        :0.1\n",
      "------------------\n"
     ]
    }
   ],
   "source": [
    "## First step\n",
    "pop.evolve(optParams[0], optParams[1])\n",
    "pop.get_leader().info()\n",
    "pop.go_to_bestSol()"
   ]
  },
  {
   "cell_type": "code",
   "execution_count": 9,
   "id": "necessary-multiple",
   "metadata": {},
   "outputs": [
    {
     "name": "stdout",
     "output_type": "stream",
     "text": [
      "firefly initial id:1\n",
      "Current position  :[1.93655816 3.02372848]\n",
      "Best position     :[ 0.00622466 -0.0083252 ]\n",
      "Current intensity :0.11010029838377401\n",
      "Best intensity    :0.9687325463516104\n",
      "Absorption        :0.1\n",
      "------------------\n"
     ]
    }
   ],
   "source": [
    "## Second step\n",
    "pop.evolve(optParams[0], optParams[1])\n",
    "pop.get_leader().info()\n",
    "sol = pop.get_best_sol()"
   ]
  },
  {
   "cell_type": "code",
   "execution_count": 10,
   "id": "married-thumbnail",
   "metadata": {},
   "outputs": [
    {
     "data": {
      "application/vnd.jupyter.widget-view+json": {
       "model_id": "1069a278733b469ba8a8fb04e5d23a17",
       "version_major": 2,
       "version_minor": 0
      },
      "text/plain": [
       "Canvas(toolbar=Toolbar(toolitems=[('Home', 'Reset original view', 'home', 'home'), ('Back', 'Back to previous …"
      ]
     },
     "metadata": {},
     "output_type": "display_data"
    },
    {
     "data": {
      "text/plain": [
       "<mpl_toolkits.mplot3d.axes3d.Axes3D at 0x11e9f2b10>"
      ]
     },
     "execution_count": 10,
     "metadata": {},
     "output_type": "execute_result"
    }
   ],
   "source": [
    "bfunc.plot3d(sol=sol)"
   ]
  }
 ],
 "metadata": {
  "kernelspec": {
   "display_name": "Python 3",
   "language": "python",
   "name": "python3"
  },
  "language_info": {
   "codemirror_mode": {
    "name": "ipython",
    "version": 3
   },
   "file_extension": ".py",
   "mimetype": "text/x-python",
   "name": "python",
   "nbconvert_exporter": "python",
   "pygments_lexer": "ipython3",
   "version": "3.7.5"
  }
 },
 "nbformat": 4,
 "nbformat_minor": 5
}
